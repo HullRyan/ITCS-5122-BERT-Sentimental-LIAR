{
  "cells": [
    {
      "attachments": {},
      "cell_type": "markdown",
      "metadata": {
        "id": "qow2csNoRXmH"
      },
      "source": [
        "# A BERT-CNN based model trained on the Sentimental LIAR Dataset\n",
        "\n",
        "The following work flow follows an implementation found in this paper: https://arxiv.org/abs/2009.01047   \n",
        "and follows the implementation found here: https://github.com/UNHSAILLab/SentimentalLIAR\n",
        "\n",
        "Ryan Hull, rhull8"
      ]
    },
    {
      "cell_type": "code",
      "execution_count": 22,
      "metadata": {
        "id": "IN-a_xrximUl"
      },
      "outputs": [
        {
          "name": "stdout",
          "output_type": "stream",
          "text": [
            "Note: you may need to restart the kernel to use updated packages.\n"
          ]
        }
      ],
      "source": [
        "# Install the required libraries and dependencies\n",
        "%pip install -q transformers pandas torch scikit-learn numpy matplotlib sklearn seaborn\n",
        "\n",
        "# Supress warnings for clean output\n",
        "import warnings\n",
        "warnings.filterwarnings('ignore')"
      ]
    },
    {
      "cell_type": "code",
      "execution_count": 2,
      "metadata": {
        "colab": {
          "base_uri": "https://localhost:8080/",
          "height": 136
        },
        "id": "Up35yUrQftzU",
        "outputId": "55c28728-d186-4c56-e7db-2ba87adc2786"
      },
      "outputs": [
        {
          "name": "stdout",
          "output_type": "stream",
          "text": [
            "before truncating size of data is : (10236, 31) (1267, 30) (1283, 31)\n",
            "size of data is : (10232, 31) (1264, 30) (1280, 31)\n",
            "Any null in Subject?  False\n",
            "Any null in Speaker?  False\n",
            "Any null in speaker_job?  True\n",
            "Any null in Party?  False\n",
            "Any null in Context?  True\n"
          ]
        }
      ],
      "source": [
        "import pandas as pd\n",
        "\n",
        "# Import files\n",
        "df=pd.read_csv(\"./train_final.csv\")\n",
        "test_df=pd.read_csv(\"./test_final.csv\")\n",
        "valid_df=pd.read_csv(\"./valid_final.csv\")\n",
        "\n",
        "\n",
        "# Truncate the data\n",
        "print(\"before truncating size of data is :\", df.shape, test_df.shape,valid_df.shape)\n",
        "df=df[:10232]\n",
        "test_df=test_df[:1264]\n",
        "valid_df=valid_df[:1280]\n",
        "print(\"size of data is :\", df.shape, test_df.shape, valid_df.shape)\n",
        "\n",
        "# Check if there are any null values in the dataframe\n",
        "print(\"Any null in Subject? \",df['subject'].isnull().values.any())\n",
        "print(\"Any null in Speaker? \",df['speaker'].isnull().values.any())\n",
        "print(\"Any null in speaker_job? \",df['speaker_job'].isnull().values.any())\n",
        "print(\"Any null in Party? \",df['party_affiliation'].isnull().values.any())\n",
        "print(\"Any null in Context? \",df['context'].isnull().values.any())\n"
      ]
    },
    {
      "cell_type": "code",
      "execution_count": 3,
      "metadata": {
        "id": "XbkLPaPJNdwZ"
      },
      "outputs": [],
      "source": [
        "# Initialize the column comment_text\n",
        "df['comment_text']=\"\"\n",
        "test_df['comment_text']=\"\"\n",
        "valid_df[\"comment_text\"]=\"\"\n",
        "\n",
        "# Combine all the columns into one for for ech dataframe\n",
        "df['comment_text']=df['subject'].astype(str)+ \". \"+ df[\"statement\"]+\\\n",
        "df['speaker_id'].astype(str)+\". \"+df['speaker_job'].astype(str)+\". \"+ df['party_affiliation'].astype(str)\\\n",
        "+\". \"+df['context'].astype(str)+\". \"+df['sentiment_code'].astype(str)\n",
        "\n",
        "test_df['comment_text']=test_df['subject'].astype(str)+ \". \"+ test_df[\"statement\"]+\". \"+\\\n",
        "test_df['speaker_id'].astype(str)+\". \"+test_df['speaker_job'].astype(str)+\". \"+ test_df['party_affiliation'].astype(str)\\\n",
        "+\". \"+test_df['context'].astype(str)+\". \"+df['sentiment_code'].astype(str)\n",
        "\n",
        "valid_df['comment_text']=valid_df['subject'].astype(str)+ \". \"+ valid_df[\"statement\"]+\\\n",
        "valid_df['speaker_id'].astype(str)+\". \"+valid_df['speaker_job'].astype(str)+\". \"+ valid_df['party_affiliation'].astype(str)\\\n",
        "+\". \"+valid_df['context'].astype(str)+\". \"+valid_df['sentiment_code'].astype(str)\n"
      ]
    },
    {
      "cell_type": "code",
      "execution_count": 4,
      "metadata": {
        "id": "eZ5OeqXDPF0C"
      },
      "outputs": [],
      "source": [
        "#c Concatenate emotion, speakers' credit and sentiment score togehter\n",
        "df['emotion']=\"[\"+df['anger'].astype(str)+\",\"+df['disgust'].astype(str)+\",\"\\\n",
        "+df['fear'].astype(str)+\",\"+df['joy'].astype(str)+\",\"+df['sad'].astype(str)+\",\"+\\\n",
        "df[\"barely_true_counts\"].astype(str) +\",\"+ df[\"false_counts\"].astype(str)  +\",\"+\\\n",
        "df[\"half_true_counts\"].astype(str) + \",\"+df[\"mostly_true_counts\"].astype(str) +\",\"+ \\\n",
        "df[\"pants_on_fire_counts\"].astype(str)+\",\"+df[\"sentiment_score\"].astype(str)+\"]\"\n",
        "\n",
        "test_df['emotion']=\"[\"+test_df['anger'].astype(str)+\",\"+test_df['disgust'].astype(str)+\",\"\\\n",
        "+test_df['fear'].astype(str)+\",\"+test_df['joy'].astype(str)+\",\"+test_df['sad'].astype(str)\\\n",
        "+ \",\"+test_df[\"barely_true_counts\"].astype(str) + \",\"+ test_df[\"false_counts\"].astype(str) \\\n",
        "+\",\"+ test_df[\"half_true_counts\"].astype(str) +\",\"+ test_df[\"mostly_true_counts\"].astype(str)\\\n",
        "+\",\"+ test_df[\"pants_on_fire_counts\"].astype(str)+\",\"+test_df[\"sentiment_score\"].astype(str)+\"]\"\n",
        "\n",
        "valid_df['emotion']=\"[\"+valid_df['anger'].astype(str)+\",\"+valid_df['disgust'].astype(str)+\",\"\\\n",
        "+valid_df['fear'].astype(str)+\",\"+valid_df['joy'].astype(str)+\",\"+valid_df['sad'].astype(str)\\\n",
        "+ \",\"+valid_df[\"barely_true_counts\"].astype(str) + \",\"+ valid_df[\"false_counts\"].astype(str) \\\n",
        "+\",\"+ valid_df[\"half_true_counts\"].astype(str) +\",\"+ valid_df[\"mostly_true_counts\"].astype(str)\\\n",
        "+\",\"+ valid_df[\"pants_on_fire_counts\"].astype(str)+\",\"+valid_df[\"sentiment_score\"].astype(str)+\"]\"\n",
        "\n"
      ]
    },
    {
      "cell_type": "code",
      "execution_count": 5,
      "metadata": {
        "id": "ahybcBEujX-m"
      },
      "outputs": [],
      "source": [
        "# Convert the data into a format that is compatible with the model\n",
        "\n",
        "import ast\n",
        "def convert_to_list(text):\n",
        "  return ast.literal_eval(text)\n",
        "\n",
        "for i in range(len(df[\"emotion\"])):\n",
        "  try:\n",
        "    df[\"emotion\"][i]=convert_to_list(df[\"emotion\"][i])\n",
        "  except:\n",
        "    print(i,\"====\",df[\"emotion\"][1])\n",
        "    \n",
        "for i in range(len(test_df[\"emotion\"])):\n",
        "  try:\n",
        "    test_df[\"emotion\"][i]=convert_to_list(test_df[\"emotion\"][i])\n",
        "  except:\n",
        "    print(i,\"====\",test_df[\"emotion\"][i], type(test_df[\"emotion\"][i]))\n",
        "    \n",
        "for i in range(len(valid_df[\"emotion\"])):\n",
        "  try:\n",
        "    valid_df[\"emotion\"][i]=convert_to_list(valid_df[\"emotion\"][i])\n",
        "  except:\n",
        "    print(i,\"====\",valid_df[\"emotion\"][i], type(valid_df[\"emotion\"][i]))    \n",
        "    \n",
        "df['list']=df['list'].apply(convert_to_list)\n",
        "test_df['list']=test_df['list'].apply(convert_to_list)\n",
        "valid_df['list']=valid_df['list'].apply(convert_to_list)"
      ]
    },
    {
      "cell_type": "code",
      "execution_count": 6,
      "metadata": {
        "id": "E-qrs8fBNgs-"
      },
      "outputs": [],
      "source": [
        "# Import the required libraries\n",
        "import numpy as np\n",
        "from sklearn import metrics\n",
        "import transformers\n",
        "import torch\n",
        "from torch import cuda\n",
        "import torch.nn as nn\n",
        "import torch.nn.functional as F\n",
        "from torch.utils.data import Dataset, DataLoader, RandomSampler, SequentialSampler\n",
        "from transformers import BertTokenizer, BertModel, BertConfig\n",
        "\n",
        "# Use the GPU if available else use the CPU\n",
        "device = 'cuda' if cuda.is_available() else 'cpu'\n",
        "\n",
        "# Training Parameters\n",
        "MAX_LEN = 300\n",
        "TRAIN_BATCH_SIZE = 8\n",
        "VALID_BATCH_SIZE = 8\n",
        "EPOCHS = 1\n",
        "LEARNING_RATE = 1e-05\n",
        "tokenizer = BertTokenizer.from_pretrained('bert-base-uncased')"
      ]
    },
    {
      "cell_type": "code",
      "execution_count": 7,
      "metadata": {
        "id": "hiGu91VfNixm"
      },
      "outputs": [],
      "source": [
        "# Create a custom dataset class to hold the data in a format that BERT understands\n",
        "class CustomDataset(Dataset):\n",
        "\n",
        "    def __init__(self, dataframe, tokenizer, max_len):\n",
        "        self.tokenizer = tokenizer\n",
        "        self.data = dataframe\n",
        "        self.comment_text = dataframe.comment_text\n",
        "        self.targets = self.data.list\n",
        "        self.max_len = max_len\n",
        "        # Add emotion list from dataframe\n",
        "        self.emotion=dataframe.emotion\n",
        "        self.dfID=dataframe.ID\n",
        "\n",
        "    def __len__(self):\n",
        "        return len(self.comment_text)\n",
        "\n",
        "    def __getitem__(self, index):\n",
        "        comment_text = str(self.comment_text[index])\n",
        "        comment_text = \" \".join(comment_text.split())\n",
        "\n",
        "        inputs = self.tokenizer.encode_plus(\n",
        "            comment_text,\n",
        "            None,\n",
        "            add_special_tokens=True,\n",
        "            max_length=self.max_len,\n",
        "            pad_to_max_length=True,\n",
        "            return_token_type_ids=True,\n",
        "            truncation=True\n",
        "        )\n",
        "        ids = inputs['input_ids']\n",
        "        mask = inputs['attention_mask']\n",
        "        token_type_ids = inputs[\"token_type_ids\"]\n",
        "\n",
        "        return {\n",
        "            'ids': torch.tensor(ids, dtype=torch.long),\n",
        "            'mask': torch.tensor(mask, dtype=torch.long),\n",
        "            'token_type_ids': torch.tensor(token_type_ids, dtype=torch.long),\n",
        "            'targets': torch.tensor(self.targets[index], dtype=torch.float),\n",
        "            'emotion':torch.tensor(self.emotion[index], dtype=torch.float),\n",
        "            'dfID':self.dfID[index]\n",
        "        }\n",
        "\n",
        "\n"
      ]
    },
    {
      "cell_type": "code",
      "execution_count": 8,
      "metadata": {
        "colab": {
          "base_uri": "https://localhost:8080/",
          "height": 85
        },
        "id": "BO904jDXNZaw",
        "outputId": "5aacba1b-8efe-4a58-e0f9-27a1765aa6b8"
      },
      "outputs": [
        {
          "name": "stdout",
          "output_type": "stream",
          "text": [
            "FULL Dataset: (10232, 33)\n",
            "TRAIN Dataset: (10232, 33)\n",
            "TEST Dataset: (1264, 32)\n",
            "VALID Dataset: (1280, 33)\n"
          ]
        }
      ],
      "source": [
        "# Create the dataset and dataloader for the neural network\n",
        "\n",
        "train_size = 1\n",
        "train_dataset=df.sample(frac=train_size,random_state=200).reset_index(drop=True)\n",
        "test_dataset=test_df.sample(frac=train_size,random_state=200).reset_index(drop=True)\n",
        "valid_dataset=valid_df.sample(frac=1,random_state=200).reset_index(drop=True)\n",
        "\n",
        "\n",
        "print(\"FULL Dataset: {}\".format(df.shape))\n",
        "print(\"TRAIN Dataset: {}\".format(train_dataset.shape))\n",
        "print(\"TEST Dataset: {}\".format(test_dataset.shape))\n",
        "print(\"VALID Dataset: {}\".format(valid_dataset.shape))\n",
        "\n",
        "training_set = CustomDataset(train_dataset, tokenizer, MAX_LEN)\n",
        "testing_set = CustomDataset(test_dataset, tokenizer, MAX_LEN)\n",
        "valid_set= CustomDataset(valid_dataset, tokenizer, MAX_LEN)\n",
        "train_params = {'batch_size': TRAIN_BATCH_SIZE,\n",
        "                'shuffle': True,\n",
        "                'num_workers': 0\n",
        "                }\n",
        "\n",
        "test_params = {'batch_size': 8,\n",
        "                'shuffle': True,\n",
        "                'num_workers': 0\n",
        "                }\n",
        "\n",
        "training_loader = DataLoader(training_set, **train_params)\n",
        "testing_loader = DataLoader(testing_set, **test_params)\n",
        "valid_loader=DataLoader(valid_set,**test_params)"
      ]
    },
    {
      "cell_type": "code",
      "execution_count": 9,
      "metadata": {
        "id": "Q_1Lye08is-8"
      },
      "outputs": [
        {
          "name": "stderr",
          "output_type": "stream",
          "text": [
            "Some weights of the model checkpoint at bert-base-uncased were not used when initializing BertModel: ['cls.seq_relationship.bias', 'cls.predictions.transform.LayerNorm.weight', 'cls.predictions.transform.dense.weight', 'cls.predictions.transform.dense.bias', 'cls.seq_relationship.weight', 'cls.predictions.bias', 'cls.predictions.transform.LayerNorm.bias']\n",
            "- This IS expected if you are initializing BertModel from the checkpoint of a model trained on another task or with another architecture (e.g. initializing a BertForSequenceClassification model from a BertForPreTraining model).\n",
            "- This IS NOT expected if you are initializing BertModel from the checkpoint of a model that you expect to be exactly identical (initializing a BertForSequenceClassification model from a BertForSequenceClassification model).\n"
          ]
        },
        {
          "data": {
            "text/plain": [
              "BERT_cnn_Class(\n",
              "  (l1): BertModel(\n",
              "    (embeddings): BertEmbeddings(\n",
              "      (word_embeddings): Embedding(30522, 768, padding_idx=0)\n",
              "      (position_embeddings): Embedding(512, 768)\n",
              "      (token_type_embeddings): Embedding(2, 768)\n",
              "      (LayerNorm): LayerNorm((768,), eps=1e-12, elementwise_affine=True)\n",
              "      (dropout): Dropout(p=0.1, inplace=False)\n",
              "    )\n",
              "    (encoder): BertEncoder(\n",
              "      (layer): ModuleList(\n",
              "        (0-11): 12 x BertLayer(\n",
              "          (attention): BertAttention(\n",
              "            (self): BertSelfAttention(\n",
              "              (query): Linear(in_features=768, out_features=768, bias=True)\n",
              "              (key): Linear(in_features=768, out_features=768, bias=True)\n",
              "              (value): Linear(in_features=768, out_features=768, bias=True)\n",
              "              (dropout): Dropout(p=0.1, inplace=False)\n",
              "            )\n",
              "            (output): BertSelfOutput(\n",
              "              (dense): Linear(in_features=768, out_features=768, bias=True)\n",
              "              (LayerNorm): LayerNorm((768,), eps=1e-12, elementwise_affine=True)\n",
              "              (dropout): Dropout(p=0.1, inplace=False)\n",
              "            )\n",
              "          )\n",
              "          (intermediate): BertIntermediate(\n",
              "            (dense): Linear(in_features=768, out_features=3072, bias=True)\n",
              "            (intermediate_act_fn): GELUActivation()\n",
              "          )\n",
              "          (output): BertOutput(\n",
              "            (dense): Linear(in_features=3072, out_features=768, bias=True)\n",
              "            (LayerNorm): LayerNorm((768,), eps=1e-12, elementwise_affine=True)\n",
              "            (dropout): Dropout(p=0.1, inplace=False)\n",
              "          )\n",
              "        )\n",
              "      )\n",
              "    )\n",
              "    (pooler): BertPooler(\n",
              "      (dense): Linear(in_features=768, out_features=768, bias=True)\n",
              "      (activation): Tanh()\n",
              "    )\n",
              "  )\n",
              "  (l2): Dropout(p=0.3, inplace=False)\n",
              "  (l3): Conv1d(1, 50, kernel_size=(20,), stride=(1,))\n",
              "  (l4): Conv1d(50, 100, kernel_size=(20,), stride=(1,))\n",
              "  (max_pooling): MaxPool1d(kernel_size=2, stride=2, padding=0, dilation=1, ceil_mode=False)\n",
              "  (l5): Linear(in_features=18000, out_features=768, bias=True)\n",
              "  (l6): Linear(in_features=768, out_features=2, bias=True)\n",
              ")"
            ]
          },
          "execution_count": 9,
          "metadata": {},
          "output_type": "execute_result"
        }
      ],
      "source": [
        "# Creating the customized model, by adding a drop out and a dense layer on top of BERT-base to get the final output for the model. \n",
        "class BERT_cnn_Class(torch.nn.Module):\n",
        "    def __init__(self):\n",
        "        super(BERT_cnn_Class, self).__init__()\n",
        "        self.l1 = transformers.BertModel.from_pretrained('bert-base-uncased')\n",
        "        self.l2 = torch.nn.Dropout(0.3)\n",
        "        \n",
        "        self.l3=torch.nn.Conv1d(1, 50, kernel_size=20,stride=1)\n",
        "        self.l4=torch.nn.Conv1d(50,100, kernel_size=20, stride=1)\n",
        "        self.max_pooling=nn.MaxPool1d(2)\n",
        "        self.l5=torch.nn.Linear(18000, 768)\n",
        "        self.l6 = torch.nn.Linear(768, 2)\n",
        "    # Define the forward pass\n",
        "    def forward(self, ids, mask, token_type_ids,emotion):\n",
        "        _, output_1= self.l1(ids, attention_mask = mask, token_type_ids = token_type_ids, return_dict=False)\n",
        "        output_2 = self.l2(output_1) # Output from BERT\n",
        "        # Feed into convolution network\n",
        "        # First change the size to [8,1,768]        \n",
        "        output_2=torch.cat((emotion,output_2),1) # concat the output of BERT with EMO+SPC+SEN (emotion, speakers' credit and sentiment score)\n",
        "        output_2=output_2.unsqueeze(1)        \n",
        "        output_3=self.l3(output_2)        \n",
        "        output_3= self.max_pooling(output_3)\n",
        "        output_4=self.l4(output_3)        \n",
        "        output_4=self.max_pooling(output_4)\n",
        "        # Change the shape to fit into linear function\n",
        "        output_4=output_4.view(8,-1)\n",
        "        output_5=self.l5(output_4)\n",
        "        output_6=self.l6(output_5)        \n",
        "        return output_6\n",
        "\n",
        "model = BERT_cnn_Class()\n",
        "\n",
        "# Put the model on to the GPU if available\n",
        "model.to(device)"
      ]
    },
    {
      "cell_type": "code",
      "execution_count": 10,
      "metadata": {
        "id": "IgLoP_Wlivpl"
      },
      "outputs": [],
      "source": [
        "import time\n",
        "import datetime\n",
        "def format_time(elapsed):\n",
        "    elapsed_rounded = int(round((elapsed)))    \n",
        "    return str(datetime.timedelta(seconds=elapsed_rounded))"
      ]
    },
    {
      "cell_type": "code",
      "execution_count": 11,
      "metadata": {
        "id": "NHTHyN8ljQx-"
      },
      "outputs": [],
      "source": [
        "# Loss function (BCE) and Optimizer (Adam)\n",
        "def loss_fn(outputs, targets):\n",
        "    return torch.nn.BCEWithLogitsLoss()(outputs, targets)\n",
        "optimizer = torch.optim.Adam(params =  model.parameters(), lr=LEARNING_RATE)"
      ]
    },
    {
      "cell_type": "code",
      "execution_count": 12,
      "metadata": {
        "colab": {
          "base_uri": "https://localhost:8080/",
          "height": 391
        },
        "id": "iWIiFvmuixkc",
        "outputId": "a227d940-f729-40a4-871f-a9062206764c"
      },
      "outputs": [
        {
          "name": "stdout",
          "output_type": "stream",
          "text": [
            "Epoch: 1  is Started: \n",
            "Epoch: 1 Train loss is :0.6295657322171893\n",
            "Epoch 1 took: 0:04:57 \n",
            "\n",
            "Epoch: 1 - Accuracy on Testing Data Score = 0.6661392405063291\n",
            "Epoch: 1 - F1 Score on Testing Data (Micro) = 0.6661392405063291\n",
            "Epoch: 1 - F1 Score on Testing Data (Macro) = 0.5301595354867805\n",
            "\n",
            "Epoch 1 : Train Loss (Training Data):0.6295657322171893, Validation Loss (Testing Data): 0.6304245248155774\n",
            "_________________________________________________\n",
            "\n",
            "Epoch: 2  is Started: \n",
            "Epoch: 2 Train loss is :0.5894109049493023\n",
            "Epoch 2 took: 0:04:55 \n",
            "\n",
            "Epoch: 2 - Accuracy on Testing Data Score = 0.6708860759493671\n",
            "Epoch: 2 - F1 Score on Testing Data (Micro) = 0.6716772151898734\n",
            "Epoch: 2 - F1 Score on Testing Data (Macro) = 0.6579745410895443\n",
            "\n",
            "Epoch 2 : Train Loss (Training Data):0.5894109049493023, Validation Loss (Testing Data): 0.6064159298467936\n",
            "_________________________________________________\n",
            "\n"
          ]
        }
      ],
      "source": [
        "#TRAIN\n",
        "val_losses=[]\n",
        "train_losses=[]\n",
        "accuracy_list=[]\n",
        "\n",
        "for epoch in range(2):\n",
        "  t0 = time.time()\n",
        "  model.train()\n",
        "  print(f\"Epoch: {epoch + 1}  is Started: \")\n",
        "  batch=0\n",
        "  train_loss=0\n",
        "  \n",
        "  for _,data in enumerate(training_loader, 0):\n",
        "      try:\n",
        "          ids = data['ids'].to(device, dtype = torch.long)\n",
        "          mask = data['mask'].to(device, dtype = torch.long)\n",
        "          token_type_ids = data['token_type_ids'].to(device, dtype = torch.long)\n",
        "          targets = data['targets'].to(device, dtype = torch.float)\n",
        "          emotions=data['emotion'].to(device,dtype=torch.float)\n",
        "      except:\n",
        "          print(f\"some error at testing {batch}\")\n",
        "          print(data['dfID'] )\n",
        "      try:  \n",
        "        outputs = model(ids, mask, token_type_ids,emotions)\n",
        "        optimizer.zero_grad()\n",
        "        loss = loss_fn(outputs, targets)\n",
        "        train_loss+=loss.item()\n",
        "        optimizer.zero_grad()\n",
        "        loss.backward()\n",
        "        optimizer.step()\n",
        "        batch+=1\n",
        "      except EOFError:\n",
        "        print(f\"{data['dfID']} error because of batch size-------->\", EOFError)\n",
        "        print(f\"some error at testing {batch}\")\n",
        "        print(data['dfID'] )\n",
        "      torch.cuda.empty_cache()\n",
        "  print(f\"Epoch: {epoch + 1} Train loss is :{train_loss/batch}\") \n",
        "  train_loss /=batch\n",
        "  train_losses.append(train_loss)    \n",
        "  print(f\"Epoch {epoch + 1} took: {format_time(time.time() - t0)} \\n\")\n",
        "\n",
        "  model.eval()\n",
        "  fin_targets=[]\n",
        "  fin_outputs=[]\n",
        "  with torch.no_grad():\n",
        "      val_loss, batch = 0, 1\n",
        "      for _, data in enumerate(testing_loader, 0):\n",
        "          ids = data['ids'].to(device, dtype = torch.long)\n",
        "          mask = data['mask'].to(device, dtype = torch.long)\n",
        "          token_type_ids = data['token_type_ids'].to(device, dtype = torch.long)\n",
        "          targets = data['targets'].to(device, dtype = torch.float)\n",
        "          emotions=data['emotion'].to(device,dtype=torch.float)\n",
        "          batch+=1\n",
        "          try:\n",
        "                        outputs = model(ids, mask, token_type_ids,emotions)\n",
        "                        loss = loss_fn(outputs, targets)\n",
        "                        val_loss+=loss.item()\n",
        "                        fin_targets.extend(targets.cpu().detach().numpy().tolist())\n",
        "                        fin_outputs.extend(torch.sigmoid(outputs).cpu().detach().numpy().tolist())\n",
        "          except:\n",
        "            print(f\"some error at testing {batch}\")\n",
        "            print(data['dfID'] )\n",
        "          torch.cuda.empty_cache()\n",
        "\n",
        "      val_loss/=batch\n",
        "      val_losses.append(val_loss)\n",
        "  outputs=fin_outputs\n",
        "  outputs = np.array(outputs) >= 0.5\n",
        "  targets=fin_targets\n",
        "  accuracy = metrics.accuracy_score(targets, outputs)\n",
        "  accuracy_list.append(accuracy)\n",
        "  f1_score_micro = metrics.f1_score(targets, outputs, average='micro')\n",
        "  f1_score_macro = metrics.f1_score(targets, outputs, average='macro')\n",
        "  print(f\"Epoch: {epoch + 1} - Accuracy on Testing Data Score = {accuracy}\")\n",
        "  print(f\"Epoch: {epoch + 1} - F1 Score on Testing Data (Micro) = {f1_score_micro}\")\n",
        "  print(f\"Epoch: {epoch + 1} - F1 Score on Testing Data (Macro) = {f1_score_macro}\")\n",
        "  print(f\"\\nEpoch {epoch + 1} : Train Loss (Training Data):{train_loss}, Validation Loss (Testing Data): {val_loss}\")\n",
        "  print(\"_________________________________________________\\n\")\n",
        "  "
      ]
    },
    {
      "cell_type": "code",
      "execution_count": 13,
      "metadata": {
        "id": "kz_2TpwBYJbm"
      },
      "outputs": [],
      "source": [
        "from pandas import DataFrame\n",
        "df=DataFrame(train_losses,columns=['train_losses'])\n",
        "df=DataFrame(val_losses,columns=['val_losses'])\n",
        "df.to_csv(\"./results.csv\")\n"
      ]
    },
    {
      "cell_type": "code",
      "execution_count": 14,
      "metadata": {
        "colab": {
          "base_uri": "https://localhost:8080/",
          "height": 339
        },
        "id": "BRL6AyaF4p8I",
        "outputId": "05b1006c-f8d2-4802-d3fd-3a02983afd6a"
      },
      "outputs": [
        {
          "name": "stderr",
          "output_type": "stream",
          "text": [
            "The PostScript backend does not support transparency; partially transparent artists will be rendered opaque.\n"
          ]
        },
        {
          "data": {
            "image/png": "[encoded data removed]",
            "text/plain": [
              "<Figure size 640x480 with 1 Axes>"
            ]
          },
          "metadata": {},
          "output_type": "display_data"
        }
      ],
      "source": [
        "\n",
        "\n",
        "import matplotlib.pyplot as plt\n",
        "plt.plot(train_losses, label=\"Training loss\")\n",
        "plt.plot(val_losses, label=\"Validation loss\")\n",
        "\n",
        "plt.xlabel('Epoch', fontsize=18)\n",
        "plt.ylabel('Losses', fontsize=16)\n",
        "plt.title('Training Loss VS Validation Loss', fontsize=15)\n",
        "\n",
        "plt.legend()\n",
        "plt.savefig('./results/epoch1.eps')"
      ]
    },
    {
      "cell_type": "code",
      "execution_count": 32,
      "metadata": {
        "colab": {
          "base_uri": "https://localhost:8080/",
          "height": 119
        },
        "id": "A6CHKx_ADfiZ",
        "outputId": "a3252be8-c0d2-42cc-8995-659266c94275"
      },
      "outputs": [
        {
          "name": "stdout",
          "output_type": "stream",
          "text": [
            "Epoch:  2, Accuracy Score on validation data = 0.65\n",
            "Epoch:  2, F1 Score on Validation Data (Macro) = 0.6253810935614209\n"
          ]
        }
      ],
      "source": [
        "# Test on the validation dataset\n",
        "model.eval()\n",
        "fin_targets=[]\n",
        "fin_outputs=[]\n",
        "\n",
        "with torch.no_grad():\n",
        "    c=0\n",
        "    for _, data in enumerate(valid_loader, 0):\n",
        "        ids = data['ids'].to(device, dtype = torch.long)\n",
        "        mask = data['mask'].to(device, dtype = torch.long)\n",
        "        token_type_ids = data['token_type_ids'].to(device, dtype = torch.long)\n",
        "        targets = data['targets'].to(device, dtype = torch.float)\n",
        "        emotions=data['emotion'].to(device,dtype=torch.float)\n",
        "        c+=1\n",
        "        try:\n",
        "                      outputs = model(ids, mask, token_type_ids,emotions)\n",
        "                      fin_targets.extend(targets.cpu().detach().numpy().tolist())\n",
        "                      fin_outputs.extend(torch.sigmoid(outputs).cpu().detach().numpy().tolist())\n",
        "        except EOFError:\n",
        "          print(f\"some error at {c}\",EOFError)\n",
        "outputs = fin_outputs\n",
        "outputs = np.array(outputs) >= 0.5\n",
        "targets = fin_targets\n",
        "accuracy = metrics.accuracy_score(targets, outputs)\n",
        "\n",
        "f1_score_macro = metrics.f1_score(targets, outputs, average='macro')\n",
        "print(f\"Epoch:  {epoch + 1}, Accuracy Score on validation data = {accuracy}\")\n",
        "\n",
        "print(f\"Epoch:  {epoch + 1}, F1 Score on Validation Data (Macro) = {f1_score_macro}\")"
      ]
    },
    {
      "cell_type": "code",
      "execution_count": 35,
      "metadata": {},
      "outputs": [
        {
          "data": {
            "image/png": "[encoded data removed]",
            "text/plain": [
              "<Figure size 640x480 with 2 Axes>"
            ]
          },
          "metadata": {},
          "output_type": "display_data"
        }
      ],
      "source": [
        "from sklearn.metrics import confusion_matrix\n",
        "import seaborn as sns\n",
        "\n",
        "cm = confusion_matrix(np.array(targets).argmax(axis=1), outputs.argmax(axis=1))\n",
        "ax = plt.subplot()\n",
        "sns.heatmap(cm, annot=True, ax = ax, fmt = 'g'); #annot=True to annotate cells\n",
        "# labels, title and ticks\n",
        "ax.set_title('Confusion Matrix - Test', fontsize=20)\n",
        "ax.set_xlabel('Predicted Label', fontsize=20)\n",
        "ax.xaxis.set_label_position('bottom') \n",
        "ax.xaxis.set_ticklabels(['true', 'false'], fontsize = 15)\n",
        "ax.xaxis.tick_bottom()\n",
        "\n",
        "ax.set_ylabel('True Label', fontsize=20)\n",
        "ax.yaxis.set_ticklabels(['true', 'false'], fontsize = 15)\n",
        "plt.show()\n"
      ]
    }
  ],
  "metadata": {
    "accelerator": "GPU",
    "colab": {
      "collapsed_sections": [],
      "machine_shape": "hm",
      "name": "Final code with comments W10 P5 txt -> BB+emotion+SPC+SEN -> CNN  GITHUB",
      "provenance": []
    },
    "kernelspec": {
      "display_name": "Python 3",
      "name": "python3"
    },
    "language_info": {
      "codemirror_mode": {
        "name": "ipython",
        "version": 3
      },
      "file_extension": ".py",
      "mimetype": "text/x-python",
      "name": "python",
      "nbconvert_exporter": "python",
      "pygments_lexer": "ipython3",
      "version": "3.11.4"
    }
  },
  "nbformat": 4,
  "nbformat_minor": 0
}
